{
 "cells": [
  {
   "cell_type": "code",
   "execution_count": 1,
   "id": "5f16cfe3",
   "metadata": {},
   "outputs": [],
   "source": [
    "#Import packages\n",
    "import pandas as pd\n",
    "import numpy as np\n",
    "import matplotlib.pyplot as plt\n",
    "import seaborn as sns\n",
    "from sklearn import svm\n",
    "from sklearn.metrics import accuracy_score, f1_score\n",
    "from sklearn.metrics import roc_curve, auc\n",
    "import os"
   ]
  },
  {
   "cell_type": "code",
   "execution_count": 2,
   "id": "52c80d4c",
   "metadata": {},
   "outputs": [],
   "source": [
    "#Read data\n",
    "data = pd.read_csv(\"Enterococcus_faecalis_Infection_Data.csv\")\n",
    "data = data.iloc[1:]\n",
    "data.dropna(inplace=True)"
   ]
  },
  {
   "cell_type": "code",
   "execution_count": 3,
   "id": "2d6933df",
   "metadata": {},
   "outputs": [],
   "source": [
    "data[\"SevenDay_Death\"] = data[\"SevenDay_Death\"].astype(int)\n",
    "data[\"ThirtyDay_Death\"] = data[\"ThirtyDay_Death\"].astype(int)\n",
    "data[\"SixWeek_Death\"] = data[\"SixWeek_Death\"].astype(int)\n",
    "data[\"ThreeMo_Death\"] = data[\"ThreeMo_Death\"].astype(int)\n",
    "data[\"SixMo_Death\"] = data[\"SixMo_Death\"].astype(int)\n",
    "data[\"NineMo_Death\"] = data[\"NineMo_Death\"].astype(int)\n",
    "data[\"OneYear_Death\"] = data[\"OneYear_Death\"].astype(int)"
   ]
  },
  {
   "cell_type": "code",
   "execution_count": 4,
   "id": "5aeed7e6",
   "metadata": {},
   "outputs": [
    {
     "data": {
      "text/html": [
       "<div>\n",
       "<style scoped>\n",
       "    .dataframe tbody tr th:only-of-type {\n",
       "        vertical-align: middle;\n",
       "    }\n",
       "\n",
       "    .dataframe tbody tr th {\n",
       "        vertical-align: top;\n",
       "    }\n",
       "\n",
       "    .dataframe thead th {\n",
       "        text-align: right;\n",
       "    }\n",
       "</style>\n",
       "<table border=\"1\" class=\"dataframe\">\n",
       "  <thead>\n",
       "    <tr style=\"text-align: right;\">\n",
       "      <th></th>\n",
       "      <th>AGE_GRP</th>\n",
       "      <th>SevenDay_Death</th>\n",
       "      <th>ThirtyDay_Death</th>\n",
       "      <th>SixWeek_Death</th>\n",
       "      <th>ThreeMo_Death</th>\n",
       "      <th>SixMo_Death</th>\n",
       "      <th>NineMo_Death</th>\n",
       "      <th>OneYear_Death</th>\n",
       "      <th>Charlson_WIC</th>\n",
       "      <th>Protein 1</th>\n",
       "      <th>...</th>\n",
       "      <th>Protein 2064</th>\n",
       "      <th>Protein 2065</th>\n",
       "      <th>Protein 2066</th>\n",
       "      <th>Protein 2067</th>\n",
       "      <th>Protein 2068</th>\n",
       "      <th>Protein 2069</th>\n",
       "      <th>Protein 2070</th>\n",
       "      <th>Protein 2071</th>\n",
       "      <th>Protein 2072</th>\n",
       "      <th>Protein 2073</th>\n",
       "    </tr>\n",
       "  </thead>\n",
       "  <tbody>\n",
       "    <tr>\n",
       "      <th>1</th>\n",
       "      <td>55.5</td>\n",
       "      <td>0</td>\n",
       "      <td>0</td>\n",
       "      <td>0</td>\n",
       "      <td>0</td>\n",
       "      <td>0</td>\n",
       "      <td>0</td>\n",
       "      <td>0</td>\n",
       "      <td>1.0</td>\n",
       "      <td>0.110355</td>\n",
       "      <td>...</td>\n",
       "      <td>0.000000</td>\n",
       "      <td>0.0</td>\n",
       "      <td>0.0</td>\n",
       "      <td>0.0</td>\n",
       "      <td>0.0</td>\n",
       "      <td>0.0</td>\n",
       "      <td>0.0</td>\n",
       "      <td>0.0</td>\n",
       "      <td>0.0</td>\n",
       "      <td>0.0</td>\n",
       "    </tr>\n",
       "    <tr>\n",
       "      <th>2</th>\n",
       "      <td>80</td>\n",
       "      <td>0</td>\n",
       "      <td>1</td>\n",
       "      <td>1</td>\n",
       "      <td>1</td>\n",
       "      <td>1</td>\n",
       "      <td>1</td>\n",
       "      <td>1</td>\n",
       "      <td>5.0</td>\n",
       "      <td>-0.036816</td>\n",
       "      <td>...</td>\n",
       "      <td>0.000000</td>\n",
       "      <td>0.0</td>\n",
       "      <td>0.0</td>\n",
       "      <td>0.0</td>\n",
       "      <td>0.0</td>\n",
       "      <td>0.0</td>\n",
       "      <td>0.0</td>\n",
       "      <td>0.0</td>\n",
       "      <td>0.0</td>\n",
       "      <td>0.0</td>\n",
       "    </tr>\n",
       "    <tr>\n",
       "      <th>3</th>\n",
       "      <td>75.5</td>\n",
       "      <td>1</td>\n",
       "      <td>1</td>\n",
       "      <td>1</td>\n",
       "      <td>1</td>\n",
       "      <td>1</td>\n",
       "      <td>1</td>\n",
       "      <td>1</td>\n",
       "      <td>2.0</td>\n",
       "      <td>-0.162532</td>\n",
       "      <td>...</td>\n",
       "      <td>2.071827</td>\n",
       "      <td>0.0</td>\n",
       "      <td>0.0</td>\n",
       "      <td>0.0</td>\n",
       "      <td>0.0</td>\n",
       "      <td>0.0</td>\n",
       "      <td>0.0</td>\n",
       "      <td>0.0</td>\n",
       "      <td>0.0</td>\n",
       "      <td>0.0</td>\n",
       "    </tr>\n",
       "    <tr>\n",
       "      <th>4</th>\n",
       "      <td>80</td>\n",
       "      <td>0</td>\n",
       "      <td>0</td>\n",
       "      <td>0</td>\n",
       "      <td>0</td>\n",
       "      <td>0</td>\n",
       "      <td>0</td>\n",
       "      <td>0</td>\n",
       "      <td>2.0</td>\n",
       "      <td>-0.097824</td>\n",
       "      <td>...</td>\n",
       "      <td>0.000000</td>\n",
       "      <td>0.0</td>\n",
       "      <td>0.0</td>\n",
       "      <td>0.0</td>\n",
       "      <td>0.0</td>\n",
       "      <td>0.0</td>\n",
       "      <td>0.0</td>\n",
       "      <td>0.0</td>\n",
       "      <td>0.0</td>\n",
       "      <td>0.0</td>\n",
       "    </tr>\n",
       "    <tr>\n",
       "      <th>5</th>\n",
       "      <td>55.5</td>\n",
       "      <td>0</td>\n",
       "      <td>0</td>\n",
       "      <td>0</td>\n",
       "      <td>0</td>\n",
       "      <td>1</td>\n",
       "      <td>1</td>\n",
       "      <td>1</td>\n",
       "      <td>2.0</td>\n",
       "      <td>-0.159146</td>\n",
       "      <td>...</td>\n",
       "      <td>0.000000</td>\n",
       "      <td>0.0</td>\n",
       "      <td>0.0</td>\n",
       "      <td>0.0</td>\n",
       "      <td>0.0</td>\n",
       "      <td>0.0</td>\n",
       "      <td>0.0</td>\n",
       "      <td>0.0</td>\n",
       "      <td>0.0</td>\n",
       "      <td>0.0</td>\n",
       "    </tr>\n",
       "    <tr>\n",
       "      <th>...</th>\n",
       "      <td>...</td>\n",
       "      <td>...</td>\n",
       "      <td>...</td>\n",
       "      <td>...</td>\n",
       "      <td>...</td>\n",
       "      <td>...</td>\n",
       "      <td>...</td>\n",
       "      <td>...</td>\n",
       "      <td>...</td>\n",
       "      <td>...</td>\n",
       "      <td>...</td>\n",
       "      <td>...</td>\n",
       "      <td>...</td>\n",
       "      <td>...</td>\n",
       "      <td>...</td>\n",
       "      <td>...</td>\n",
       "      <td>...</td>\n",
       "      <td>...</td>\n",
       "      <td>...</td>\n",
       "      <td>...</td>\n",
       "      <td>...</td>\n",
       "    </tr>\n",
       "    <tr>\n",
       "      <th>1322</th>\n",
       "      <td>80</td>\n",
       "      <td>0</td>\n",
       "      <td>1</td>\n",
       "      <td>1</td>\n",
       "      <td>1</td>\n",
       "      <td>1</td>\n",
       "      <td>1</td>\n",
       "      <td>1</td>\n",
       "      <td>3.0</td>\n",
       "      <td>0.236907</td>\n",
       "      <td>...</td>\n",
       "      <td>0.000000</td>\n",
       "      <td>0.0</td>\n",
       "      <td>0.0</td>\n",
       "      <td>0.0</td>\n",
       "      <td>0.0</td>\n",
       "      <td>0.0</td>\n",
       "      <td>0.0</td>\n",
       "      <td>0.0</td>\n",
       "      <td>0.0</td>\n",
       "      <td>0.0</td>\n",
       "    </tr>\n",
       "    <tr>\n",
       "      <th>1323</th>\n",
       "      <td>80</td>\n",
       "      <td>0</td>\n",
       "      <td>0</td>\n",
       "      <td>0</td>\n",
       "      <td>0</td>\n",
       "      <td>1</td>\n",
       "      <td>1</td>\n",
       "      <td>1</td>\n",
       "      <td>1.0</td>\n",
       "      <td>-0.086171</td>\n",
       "      <td>...</td>\n",
       "      <td>0.000000</td>\n",
       "      <td>0.0</td>\n",
       "      <td>0.0</td>\n",
       "      <td>0.0</td>\n",
       "      <td>0.0</td>\n",
       "      <td>0.0</td>\n",
       "      <td>0.0</td>\n",
       "      <td>0.0</td>\n",
       "      <td>0.0</td>\n",
       "      <td>0.0</td>\n",
       "    </tr>\n",
       "    <tr>\n",
       "      <th>1324</th>\n",
       "      <td>75.5</td>\n",
       "      <td>0</td>\n",
       "      <td>0</td>\n",
       "      <td>0</td>\n",
       "      <td>0</td>\n",
       "      <td>0</td>\n",
       "      <td>0</td>\n",
       "      <td>0</td>\n",
       "      <td>0.0</td>\n",
       "      <td>-0.167347</td>\n",
       "      <td>...</td>\n",
       "      <td>0.000000</td>\n",
       "      <td>0.0</td>\n",
       "      <td>0.0</td>\n",
       "      <td>0.0</td>\n",
       "      <td>0.0</td>\n",
       "      <td>0.0</td>\n",
       "      <td>0.0</td>\n",
       "      <td>0.0</td>\n",
       "      <td>0.0</td>\n",
       "      <td>0.0</td>\n",
       "    </tr>\n",
       "    <tr>\n",
       "      <th>1325</th>\n",
       "      <td>65.5</td>\n",
       "      <td>0</td>\n",
       "      <td>0</td>\n",
       "      <td>0</td>\n",
       "      <td>0</td>\n",
       "      <td>0</td>\n",
       "      <td>0</td>\n",
       "      <td>0</td>\n",
       "      <td>2.0</td>\n",
       "      <td>0.076349</td>\n",
       "      <td>...</td>\n",
       "      <td>0.000000</td>\n",
       "      <td>0.0</td>\n",
       "      <td>0.0</td>\n",
       "      <td>0.0</td>\n",
       "      <td>0.0</td>\n",
       "      <td>0.0</td>\n",
       "      <td>0.0</td>\n",
       "      <td>0.0</td>\n",
       "      <td>0.0</td>\n",
       "      <td>0.0</td>\n",
       "    </tr>\n",
       "    <tr>\n",
       "      <th>1326</th>\n",
       "      <td>75.5</td>\n",
       "      <td>0</td>\n",
       "      <td>0</td>\n",
       "      <td>0</td>\n",
       "      <td>0</td>\n",
       "      <td>0</td>\n",
       "      <td>0</td>\n",
       "      <td>0</td>\n",
       "      <td>1.0</td>\n",
       "      <td>-0.106928</td>\n",
       "      <td>...</td>\n",
       "      <td>0.000000</td>\n",
       "      <td>0.0</td>\n",
       "      <td>0.0</td>\n",
       "      <td>0.0</td>\n",
       "      <td>0.0</td>\n",
       "      <td>0.0</td>\n",
       "      <td>0.0</td>\n",
       "      <td>0.0</td>\n",
       "      <td>0.0</td>\n",
       "      <td>0.0</td>\n",
       "    </tr>\n",
       "  </tbody>\n",
       "</table>\n",
       "<p>1228 rows × 2082 columns</p>\n",
       "</div>"
      ],
      "text/plain": [
       "     AGE_GRP  SevenDay_Death  ThirtyDay_Death  SixWeek_Death  ThreeMo_Death  \\\n",
       "1       55.5               0                0              0              0   \n",
       "2         80               0                1              1              1   \n",
       "3       75.5               1                1              1              1   \n",
       "4         80               0                0              0              0   \n",
       "5       55.5               0                0              0              0   \n",
       "...      ...             ...              ...            ...            ...   \n",
       "1322      80               0                1              1              1   \n",
       "1323      80               0                0              0              0   \n",
       "1324    75.5               0                0              0              0   \n",
       "1325    65.5               0                0              0              0   \n",
       "1326    75.5               0                0              0              0   \n",
       "\n",
       "      SixMo_Death  NineMo_Death  OneYear_Death  Charlson_WIC  Protein 1  ...  \\\n",
       "1               0             0              0           1.0   0.110355  ...   \n",
       "2               1             1              1           5.0  -0.036816  ...   \n",
       "3               1             1              1           2.0  -0.162532  ...   \n",
       "4               0             0              0           2.0  -0.097824  ...   \n",
       "5               1             1              1           2.0  -0.159146  ...   \n",
       "...           ...           ...            ...           ...        ...  ...   \n",
       "1322            1             1              1           3.0   0.236907  ...   \n",
       "1323            1             1              1           1.0  -0.086171  ...   \n",
       "1324            0             0              0           0.0  -0.167347  ...   \n",
       "1325            0             0              0           2.0   0.076349  ...   \n",
       "1326            0             0              0           1.0  -0.106928  ...   \n",
       "\n",
       "      Protein 2064  Protein 2065  Protein 2066  Protein 2067  Protein 2068  \\\n",
       "1         0.000000           0.0           0.0           0.0           0.0   \n",
       "2         0.000000           0.0           0.0           0.0           0.0   \n",
       "3         2.071827           0.0           0.0           0.0           0.0   \n",
       "4         0.000000           0.0           0.0           0.0           0.0   \n",
       "5         0.000000           0.0           0.0           0.0           0.0   \n",
       "...            ...           ...           ...           ...           ...   \n",
       "1322      0.000000           0.0           0.0           0.0           0.0   \n",
       "1323      0.000000           0.0           0.0           0.0           0.0   \n",
       "1324      0.000000           0.0           0.0           0.0           0.0   \n",
       "1325      0.000000           0.0           0.0           0.0           0.0   \n",
       "1326      0.000000           0.0           0.0           0.0           0.0   \n",
       "\n",
       "      Protein 2069  Protein 2070  Protein 2071  Protein 2072  Protein 2073  \n",
       "1              0.0           0.0           0.0           0.0           0.0  \n",
       "2              0.0           0.0           0.0           0.0           0.0  \n",
       "3              0.0           0.0           0.0           0.0           0.0  \n",
       "4              0.0           0.0           0.0           0.0           0.0  \n",
       "5              0.0           0.0           0.0           0.0           0.0  \n",
       "...            ...           ...           ...           ...           ...  \n",
       "1322           0.0           0.0           0.0           0.0           0.0  \n",
       "1323           0.0           0.0           0.0           0.0           0.0  \n",
       "1324           0.0           0.0           0.0           0.0           0.0  \n",
       "1325           0.0           0.0           0.0           0.0           0.0  \n",
       "1326           0.0           0.0           0.0           0.0           0.0  \n",
       "\n",
       "[1228 rows x 2082 columns]"
      ]
     },
     "execution_count": 4,
     "metadata": {},
     "output_type": "execute_result"
    }
   ],
   "source": [
    "data.replace(to_replace =\"00-10\", value = \"5\", inplace = True)\n",
    "data.replace(to_replace =\"11-20\", value = \"15.5\", inplace = True)\n",
    "data.replace(to_replace =\"21-30\", value = \"25.5\", inplace = True)\n",
    "data.replace(to_replace =\"31-40\", value = \"35.5\", inplace = True)\n",
    "data.replace(to_replace =\"41-50\", value = \"45.5\", inplace = True)\n",
    "data.replace(to_replace =\"51-60\", value = \"55.5\", inplace = True)\n",
    "data.replace(to_replace =\"61-70\", value = \"65.5\", inplace = True)\n",
    "data.replace(to_replace =\"71-80\", value = \"75.5\", inplace = True)\n",
    "data.replace(to_replace =\"81-90\", value = \"85.5\", inplace = True)\n",
    "data.replace(to_replace =\"80+\", value = \"80\", inplace = True)\n",
    "\n",
    "del data['Unnamed: 0']\n",
    "\n",
    "data"
   ]
  },
  {
   "cell_type": "code",
   "execution_count": 5,
   "id": "e3746a3f",
   "metadata": {},
   "outputs": [
    {
     "data": {
      "text/plain": [
       "<AxesSubplot:>"
      ]
     },
     "execution_count": 5,
     "metadata": {},
     "output_type": "execute_result"
    },
    {
     "data": {
      "image/png": "[encoded data removed]",
      "text/plain": [
       "<Figure size 432x288 with 2 Axes>"
      ]
     },
     "metadata": {
      "needs_background": "light"
     },
     "output_type": "display_data"
    }
   ],
   "source": [
    "#Correlation matrix\n",
    "subdata = data.iloc[:, [0,1,2,3,4,5,6,7]]\n",
    "sns.heatmap(subdata.corr(), annot=False)"
   ]
  },
  {
   "cell_type": "code",
   "execution_count": 6,
   "id": "9d4935c4",
   "metadata": {},
   "outputs": [],
   "source": [
    "### the heatmap shows high correlation between all mortality rates, expected but should drop all to predict one"
   ]
  },
  {
   "cell_type": "code",
   "execution_count": 7,
   "id": "f5f5b9c5",
   "metadata": {},
   "outputs": [],
   "source": [
    "#Choose Feature\n",
    "X = data.drop([\"SevenDay_Death\", \"ThirtyDay_Death\", \"SixWeek_Death\", \"ThreeMo_Death\", \"SixMo_Death\", \"NineMo_Death\", \"OneYear_Death\"], axis=1)\n",
    "#Choose target\n",
    "Y = data['OneYear_Death']"
   ]
  },
  {
   "cell_type": "code",
   "execution_count": 8,
   "id": "aadc6f25",
   "metadata": {},
   "outputs": [],
   "source": [
    "# Normalize\n",
    "from sklearn import preprocessing\n",
    "X=preprocessing.scale(X, axis=0, with_mean=True, with_std=True, copy=False)"
   ]
  },
  {
   "cell_type": "code",
   "execution_count": 9,
   "id": "ecef82fb",
   "metadata": {},
   "outputs": [],
   "source": [
    "#Split training/testing data\n",
    "from sklearn.model_selection import train_test_split\n",
    "\n",
    "X_train,X_test,Y_train,Y_test = train_test_split(X,Y,test_size=0.3, random_state=1)\n"
   ]
  },
  {
   "cell_type": "code",
   "execution_count": 10,
   "id": "aa2afbb8",
   "metadata": {},
   "outputs": [
    {
     "data": {
      "text/plain": [
       "SVC(C=2, kernel='linear')"
      ]
     },
     "execution_count": 10,
     "metadata": {},
     "output_type": "execute_result"
    }
   ],
   "source": [
    "#SVM\n",
    "Z = svm.SVC(kernel='linear', C=2)\n",
    "Z.fit(X_train, Y_train)"
   ]
  },
  {
   "cell_type": "code",
   "execution_count": 11,
   "id": "392213b8",
   "metadata": {},
   "outputs": [],
   "source": [
    "Y_pred = Z.predict(X_test)"
   ]
  },
  {
   "cell_type": "code",
   "execution_count": 12,
   "id": "ad476005",
   "metadata": {},
   "outputs": [
    {
     "data": {
      "text/plain": [
       "100.0"
      ]
     },
     "execution_count": 12,
     "metadata": {},
     "output_type": "execute_result"
    }
   ],
   "source": [
    "# training score\n",
    "Z.score(X_train, Y_train)*100"
   ]
  },
  {
   "cell_type": "code",
   "execution_count": 13,
   "id": "a61e5cc7",
   "metadata": {},
   "outputs": [
    {
     "data": {
      "text/plain": [
       "62.05962059620597"
      ]
     },
     "execution_count": 13,
     "metadata": {},
     "output_type": "execute_result"
    }
   ],
   "source": [
    "# testing score\n",
    "Z.score(X_test, Y_test)*100"
   ]
  },
  {
   "cell_type": "code",
   "execution_count": 14,
   "id": "6ca3537d",
   "metadata": {},
   "outputs": [],
   "source": [
    "Y_train_pred = Z.predict(X_train)\n",
    "Y_test_pred = Z.predict(X_test)"
   ]
  },
  {
   "cell_type": "code",
   "execution_count": 15,
   "id": "0a755a01",
   "metadata": {},
   "outputs": [
    {
     "name": "stdout",
     "output_type": "stream",
     "text": [
      "Training Accuracy for Basic Trees Model: 1.0000\n",
      "Testing Accuracy for Basic Trees Model: 0.6206\n",
      "Training F1 Score: 1.0000\n",
      "Testing F1 Score: 0.3805\n"
     ]
    }
   ],
   "source": [
    "#Calculate accuracy scores\n",
    "train_accuracy = accuracy_score(Y_train, Y_train_pred)\n",
    "test_accuracy = accuracy_score(Y_test, Y_test_pred)\n",
    "\n",
    "#Calculate F1 scores\n",
    "train_f1_score = f1_score(Y_train, Y_train_pred)\n",
    "test_f1_score = f1_score(Y_test, Y_test_pred)\n",
    "\n",
    "print(f\"Training Accuracy for Basic Trees Model: {train_accuracy:.4f}\")\n",
    "print(f\"Testing Accuracy for Basic Trees Model: {test_accuracy:.4f}\")\n",
    "print(f\"Training F1 Score: {train_f1_score:.4f}\")\n",
    "print(f\"Testing F1 Score: {test_f1_score:.4f}\")"
   ]
  },
  {
   "cell_type": "code",
   "execution_count": 16,
   "id": "3378cdb2",
   "metadata": {},
   "outputs": [
    {
     "data": {
      "text/plain": [
       "<AxesSubplot:>"
      ]
     },
     "execution_count": 16,
     "metadata": {},
     "output_type": "execute_result"
    },
    {
     "data": {
      "image/png": "[encoded data removed]",
      "text/plain": [
       "<Figure size 432x288 with 2 Axes>"
      ]
     },
     "metadata": {
      "needs_background": "light"
     },
     "output_type": "display_data"
    }
   ],
   "source": [
    "#confusion matrix\n",
    "from sklearn.metrics import confusion_matrix\n",
    "from sklearn.metrics import accuracy_score\n",
    "\n",
    "cm = confusion_matrix(Y_test, Y_test_pred)\n",
    "\n",
    "accuracy_score(Y_test, Y_test_pred)\n",
    "\n",
    "sns.heatmap(cm, annot=True)"
   ]
  },
  {
   "cell_type": "code",
   "execution_count": 17,
   "id": "73e1a832",
   "metadata": {},
   "outputs": [
    {
     "data": {
      "image/png": "[encoded data removed]",
      "text/plain": [
       "<Figure size 432x288 with 1 Axes>"
      ]
     },
     "metadata": {
      "needs_background": "light"
     },
     "output_type": "display_data"
    }
   ],
   "source": [
    "#ROC Curve\n",
    "fpr, tpr, thresholds = roc_curve(Y_test, Y_test_pred)\n",
    "roc_auc = auc(fpr, tpr)\n",
    "\n",
    "plt.plot(fpr, tpr, color='blue', lw=2, label='ROC curve (area = %0.2f)' % roc_auc)\n",
    "plt.plot([0, 1], [0, 1], color='gray', lw=2, linestyle='--')\n",
    "plt.xlim([0.0, 1.0])\n",
    "plt.ylim([0.0, 1.05])\n",
    "plt.xlabel('False Positive Rate')\n",
    "plt.ylabel('True Positive Rate')\n",
    "plt.title('Receiver Operating Characteristic (ROC) Curve')\n",
    "plt.legend(loc=\"lower right\")\n",
    "plt.show()"
   ]
  }
 ],
 "metadata": {
  "kernelspec": {
   "display_name": "Python 3",
   "language": "python",
   "name": "python3"
  },
  "language_info": {
   "codemirror_mode": {
    "name": "ipython",
    "version": 3
   },
   "file_extension": ".py",
   "mimetype": "text/x-python",
   "name": "python",
   "nbconvert_exporter": "python",
   "pygments_lexer": "ipython3",
   "version": "3.8.8"
  }
 },
 "nbformat": 4,
 "nbformat_minor": 5
}
