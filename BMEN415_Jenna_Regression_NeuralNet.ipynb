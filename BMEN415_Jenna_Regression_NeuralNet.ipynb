{
	"cells": [
		{
			"cell_type": "code",
			"execution_count": 1,
			"metadata": {},
			"outputs": [],
			"source": [
				"import pandas as pd \n",
				"import numpy as np\n",
				"import matplotlib.pyplot as plt\n",
				"import seaborn as sns"
			]
		},
		{
			"cell_type": "code",
			"execution_count": 2,
			"metadata": {},
			"outputs": [],
			"source": [
				"#reading dataset csv\n",
				"dataset=pd.read_csv('PCOS_data_without_infertility.csv')"
			]
		},
		{
			"cell_type": "code",
			"execution_count": 3,
			"metadata": {},
			"outputs": [],
			"source": [
				"#remove SI No. and pateitn file no. bc just patient numbering\n",
				"#remove unnamed bc extra row\n",
				"#remove left and right follicle numbers since too correlated to the average number\n",
				"\n",
				"dataset = dataset.drop('Sl. No', axis=1)\n",
				"dataset = dataset.drop('Patient File No.', axis=1)\n",
				"dataset = dataset.drop('Unnamed: 45', axis=1)\n",
				"dataset = dataset.drop('Follicle No. (R)', axis=1)\n",
				"dataset = dataset.drop('Follicle No. (L)', axis=1)"
			]
		},
		{
			"cell_type": "code",
			"execution_count": 4,
			"metadata": {},
			"outputs": [],
			"source": [
				"#setting target to be the average follicle number (average of L and R)\n",
				"\n",
				"y=dataset['Follicle No. (Ave)']\n",
				"X=dataset.loc[:,dataset.columns!=\"Follicle No. (Ave)\"]"
			]
		},
		{
			"cell_type": "code",
			"execution_count": 5,
			"metadata": {},
			"outputs": [],
			"source": [
				"#split training and testing data\n",
				"\n",
				"from sklearn.model_selection import train_test_split \n",
				"\n",
				"x_train,x_test,y_train,y_test = train_test_split(X,y,test_size=0.3, random_state=1)\n",
				"\n",
				"#70% of data is being trained, 30% in test"
			]
		},
		{
			"cell_type": "code",
			"execution_count": 6,
			"metadata": {},
			"outputs": [
				{
					"data": {
						"text/html": [
							"<div>\n",
							"<style scoped>\n",
							"    .dataframe tbody tr th:only-of-type {\n",
							"        vertical-align: middle;\n",
							"    }\n",
							"\n",
							"    .dataframe tbody tr th {\n",
							"        vertical-align: top;\n",
							"    }\n",
							"\n",
							"    .dataframe thead th {\n",
							"        text-align: right;\n",
							"    }\n",
							"</style>\n",
							"<table border=\"1\" class=\"dataframe\">\n",
							"  <thead>\n",
							"    <tr style=\"text-align: right;\">\n",
							"      <th></th>\n",
							"      <th>PCOS (Y/N)</th>\n",
							"      <th>Age (yrs)</th>\n",
							"      <th>Weight (Kg)</th>\n",
							"      <th>Height(Cm)</th>\n",
							"      <th>BMI</th>\n",
							"      <th>Blood Group</th>\n",
							"      <th>Pulse rate(bpm)</th>\n",
							"      <th>RR (breaths/min)</th>\n",
							"      <th>Hb(g/dl)</th>\n",
							"      <th>Cycle(R/I)</th>\n",
							"      <th>...</th>\n",
							"      <th>Skin darkening (Y/N)</th>\n",
							"      <th>Hair loss(Y/N)</th>\n",
							"      <th>Pimples(Y/N)</th>\n",
							"      <th>Fast food (Y/N)</th>\n",
							"      <th>Reg.Exercise(Y/N)</th>\n",
							"      <th>BP _Systolic (mmHg)</th>\n",
							"      <th>BP _Diastolic (mmHg)</th>\n",
							"      <th>Avg. F size (L) (mm)</th>\n",
							"      <th>Avg. F size (R) (mm)</th>\n",
							"      <th>Endometrium (mm)</th>\n",
							"    </tr>\n",
							"  </thead>\n",
							"  <tbody>\n",
							"    <tr>\n",
							"      <th>156</th>\n",
							"      <td>0</td>\n",
							"      <td>27</td>\n",
							"      <td>53.2</td>\n",
							"      <td>158.0</td>\n",
							"      <td>21.310687</td>\n",
							"      <td>13</td>\n",
							"      <td>72</td>\n",
							"      <td>22</td>\n",
							"      <td>10.5</td>\n",
							"      <td>4</td>\n",
							"      <td>...</td>\n",
							"      <td>1</td>\n",
							"      <td>1</td>\n",
							"      <td>0</td>\n",
							"      <td>NaN</td>\n",
							"      <td>1</td>\n",
							"      <td>120</td>\n",
							"      <td>70</td>\n",
							"      <td>11.0</td>\n",
							"      <td>13.0</td>\n",
							"      <td>11.0</td>\n",
							"    </tr>\n",
							"    <tr>\n",
							"      <th>457</th>\n",
							"      <td>1</td>\n",
							"      <td>36</td>\n",
							"      <td>66.0</td>\n",
							"      <td>162.0</td>\n",
							"      <td>25.148605</td>\n",
							"      <td>15</td>\n",
							"      <td>72</td>\n",
							"      <td>20</td>\n",
							"      <td>11.0</td>\n",
							"      <td>4</td>\n",
							"      <td>...</td>\n",
							"      <td>0</td>\n",
							"      <td>0</td>\n",
							"      <td>0</td>\n",
							"      <td>0.0</td>\n",
							"      <td>0</td>\n",
							"      <td>120</td>\n",
							"      <td>80</td>\n",
							"      <td>19.0</td>\n",
							"      <td>19.0</td>\n",
							"      <td>8.0</td>\n",
							"    </tr>\n",
							"  </tbody>\n",
							"</table>\n",
							"<p>2 rows × 40 columns</p>\n",
							"</div>"
						],
						"text/plain": [
							"     PCOS (Y/N)   Age (yrs)  Weight (Kg)  Height(Cm)         BMI  Blood Group  \\\n",
							"156           0          27         53.2        158.0  21.310687           13   \n",
							"457           1          36         66.0        162.0  25.148605           15   \n",
							"\n",
							"     Pulse rate(bpm)   RR (breaths/min)  Hb(g/dl)  Cycle(R/I)  ...  \\\n",
							"156                72                22      10.5           4  ...   \n",
							"457                72                20      11.0           4  ...   \n",
							"\n",
							"     Skin darkening (Y/N)  Hair loss(Y/N)  Pimples(Y/N)  Fast food (Y/N)  \\\n",
							"156                     1               1             0              NaN   \n",
							"457                     0               0             0              0.0   \n",
							"\n",
							"     Reg.Exercise(Y/N)  BP _Systolic (mmHg)  BP _Diastolic (mmHg)  \\\n",
							"156                  1                  120                    70   \n",
							"457                  0                  120                    80   \n",
							"\n",
							"     Avg. F size (L) (mm)  Avg. F size (R) (mm)  Endometrium (mm)  \n",
							"156                  11.0                  13.0              11.0  \n",
							"457                  19.0                  19.0               8.0  \n",
							"\n",
							"[2 rows x 40 columns]"
						]
					},
					"execution_count": 6,
					"metadata": {},
					"output_type": "execute_result"
				}
			],
			"source": [
				"#find null value\n",
				"\n",
				"x_train[x_train.isnull().any(axis=1)]"
			]
		},
		{
			"cell_type": "code",
			"execution_count": 7,
			"metadata": {},
			"outputs": [
				{
					"data": {
						"text/html": [
							"<div>\n",
							"<style scoped>\n",
							"    .dataframe tbody tr th:only-of-type {\n",
							"        vertical-align: middle;\n",
							"    }\n",
							"\n",
							"    .dataframe tbody tr th {\n",
							"        vertical-align: top;\n",
							"    }\n",
							"\n",
							"    .dataframe thead th {\n",
							"        text-align: right;\n",
							"    }\n",
							"</style>\n",
							"<table border=\"1\" class=\"dataframe\">\n",
							"  <thead>\n",
							"    <tr style=\"text-align: right;\">\n",
							"      <th></th>\n",
							"      <th>PCOS (Y/N)</th>\n",
							"      <th>Age (yrs)</th>\n",
							"      <th>Weight (Kg)</th>\n",
							"      <th>Height(Cm)</th>\n",
							"      <th>BMI</th>\n",
							"      <th>Blood Group</th>\n",
							"      <th>Pulse rate(bpm)</th>\n",
							"      <th>RR (breaths/min)</th>\n",
							"      <th>Hb(g/dl)</th>\n",
							"      <th>Cycle(R/I)</th>\n",
							"      <th>...</th>\n",
							"      <th>Skin darkening (Y/N)</th>\n",
							"      <th>Hair loss(Y/N)</th>\n",
							"      <th>Pimples(Y/N)</th>\n",
							"      <th>Fast food (Y/N)</th>\n",
							"      <th>Reg.Exercise(Y/N)</th>\n",
							"      <th>BP _Systolic (mmHg)</th>\n",
							"      <th>BP _Diastolic (mmHg)</th>\n",
							"      <th>Avg. F size (L) (mm)</th>\n",
							"      <th>Avg. F size (R) (mm)</th>\n",
							"      <th>Endometrium (mm)</th>\n",
							"    </tr>\n",
							"  </thead>\n",
							"  <tbody>\n",
							"  </tbody>\n",
							"</table>\n",
							"<p>0 rows × 40 columns</p>\n",
							"</div>"
						],
						"text/plain": [
							"Empty DataFrame\n",
							"Columns: [PCOS (Y/N),  Age (yrs), Weight (Kg), Height(Cm) , BMI, Blood Group, Pulse rate(bpm) , RR (breaths/min), Hb(g/dl), Cycle(R/I), Cycle length(days), Marraige Status (Yrs), Pregnant(Y/N), No. of aborptions,   I   beta-HCG(mIU/mL), II    beta-HCG(mIU/mL), FSH(mIU/mL), LH(mIU/mL), FSH/LH, Hip(inch), Waist(inch), Waist:Hip Ratio, TSH (mIU/L), AMH(ng/mL), PRL(ng/mL), Vit D3 (ng/mL), PRG(ng/mL), RBS(mg/dl), Weight gain(Y/N), hair growth(Y/N), Skin darkening (Y/N), Hair loss(Y/N), Pimples(Y/N), Fast food (Y/N), Reg.Exercise(Y/N), BP _Systolic (mmHg), BP _Diastolic (mmHg), Avg. F size (L) (mm), Avg. F size (R) (mm), Endometrium (mm)]\n",
							"Index: []\n",
							"\n",
							"[0 rows x 40 columns]"
						]
					},
					"execution_count": 7,
					"metadata": {},
					"output_type": "execute_result"
				}
			],
			"source": [
				"x_test[x_test.isnull().any(axis=1)]"
			]
		},
		{
			"cell_type": "code",
			"execution_count": 8,
			"metadata": {},
			"outputs": [],
			"source": [
				"# have to remove null value from both x and y \n",
				"\n",
				"x_train.dropna(inplace=True)\n",
				"y_train.drop(156, inplace=True) #inplace assigns to same variable\n",
				"y_train.drop(457, inplace=True)"
			]
		},
		{
			"cell_type": "code",
			"execution_count": 9,
			"metadata": {},
			"outputs": [],
			"source": [
				"from sklearn.neural_network import MLPRegressor\n",
				"from sklearn.preprocessing import StandardScaler\n",
				"\n",
				"mlp = MLPRegressor(hidden_layer_sizes=(200, 100, 50, 25), activation='tanh', max_iter=1000, random_state=1000).fit(x_train, y_train)"
			]
		},
		{
			"cell_type": "code",
			"execution_count": 10,
			"metadata": {},
			"outputs": [
				{
					"name": "stdout",
					"output_type": "stream",
					"text": [
						"Training R2:  0.7144063489142802\n",
						"Testing R2:  0.061152639355535165\n",
						"RMSE for Training Data:  2.211884173279771\n",
						"RMSE for Testing Data:  3.8891272422632746\n"
					]
				}
			],
			"source": [
				"from sklearn.metrics import r2_score  # For find accuracy with R2 Score\n",
				"from sklearn.metrics import mean_squared_error  # For MSE\n",
				"from math import sqrt  # For squareroot operation\n",
				"\n",
				"y_pred_train = mlp.predict(x_train)\n",
				"y_pred_test = mlp.predict(x_test)\n",
				"\n",
				"accuracy_train = r2_score(y_train, y_pred_train)\n",
				"print(\"Training R2: \", accuracy_train)\n",
				"\n",
				"accuracy_test = r2_score(y_test, y_pred_test)\n",
				"print(\"Testing R2: \", accuracy_test)\n",
				"\n",
				"RMSE_train = sqrt(mean_squared_error(y_train, y_pred_train))\n",
				"print(\"RMSE for Training Data: \", RMSE_train)\n",
				"\n",
				"RMSE_test = sqrt(mean_squared_error(y_test, y_pred_test))\n",
				"print(\"RMSE for Testing Data: \", RMSE_test)"
			]
		},
		{
			"cell_type": "code",
			"execution_count": 12,
			"metadata": {},
			"outputs": [
				{
					"data": {
						"image/png": "[encoded data removed]",
						"text/plain": [
							"<Figure size 800x800 with 1 Axes>"
						]
					},
					"metadata": {},
					"output_type": "display_data"
				}
			],
			"source": [
				"plt.figure(figsize=(8,8))\n",
				"plt.scatter(y_train, y_pred_train, c='crimson')\n",
				"plt.yscale('log')\n",
				"plt.xscale('log')\n",
				"\n",
				"p1 = max(max(y_pred_train), max(y_train))\n",
				"p2 = min(min(y_pred_train), min(y_train))\n",
				"plt.plot([p1, p2], [p1, p2], 'b-')\n",
				"plt.xlabel('True Values', fontsize=15)\n",
				"plt.ylabel('Predicted Values', fontsize=15)\n",
				"plt.title(\"Neural Net: True Values vs Predicted Values\")\n",
				"plt.axis('equal')\n",
				"plt.show()"
			]
		}
	],
	"message": "could not convert string to float: '1.99.'",
	"metadata": {
		"kernelspec": {
			"display_name": "base",
			"language": "python",
			"name": "python3"
		},
		"language_info": {
			"codemirror_mode": {
				"name": "ipython",
				"version": 3
			},
			"file_extension": ".py",
			"mimetype": "text/x-python",
			"name": "python",
			"nbconvert_exporter": "python",
			"pygments_lexer": "ipython3",
			"version": "3.9.13"
		},
		"orig_nbformat": 4
	},
	"name": "ValueError",
	"nbformat": 4,
	"nbformat_minor": 2,
	"stack": "\u001b[0;31m---------------------------------------------------------------------------\u001b[0m\n\u001b[0;31mValueError\u001b[0m                                Traceback (most recent call last)\n\u001b[0;32m/var/folders/8k/7w5pq5x94r9chdh11ry6d8p40000gn/T/ipykernel_8669/3826537413.py\u001b[0m in \u001b[0;36m<module>\u001b[0;34m\u001b[0m\n\u001b[1;32m      1\u001b[0m \u001b[0;32mfrom\u001b[0m \u001b[0msklearn\u001b[0m\u001b[0;34m.\u001b[0m\u001b[0mensemble\u001b[0m \u001b[0;32mimport\u001b[0m \u001b[0mRandomForestRegressor\u001b[0m\u001b[0;34m\u001b[0m\u001b[0;34m\u001b[0m\u001b[0m\n\u001b[0;32m----> 2\u001b[0;31m \u001b[0mrf\u001b[0m \u001b[0;34m=\u001b[0m \u001b[0mRandomForestRegressor\u001b[0m\u001b[0;34m(\u001b[0m\u001b[0mn_estimators\u001b[0m \u001b[0;34m=\u001b[0m \u001b[0;36m300\u001b[0m\u001b[0;34m,\u001b[0m \u001b[0mmax_depth\u001b[0m \u001b[0;34m=\u001b[0m \u001b[0;36m5\u001b[0m\u001b[0;34m,\u001b[0m \u001b[0mrandom_state\u001b[0m \u001b[0;34m=\u001b[0m \u001b[0;36m18\u001b[0m\u001b[0;34m)\u001b[0m\u001b[0;34m.\u001b[0m\u001b[0mfit\u001b[0m\u001b[0;34m(\u001b[0m\u001b[0mx_train\u001b[0m\u001b[0;34m,\u001b[0m \u001b[0my_train\u001b[0m\u001b[0;34m)\u001b[0m\u001b[0;34m\u001b[0m\u001b[0;34m\u001b[0m\u001b[0m\n\u001b[0m\n\u001b[0;32m~/opt/anaconda3/lib/python3.9/site-packages/sklearn/ensemble/_forest.py\u001b[0m in \u001b[0;36mfit\u001b[0;34m(self, X, y, sample_weight)\u001b[0m\n\u001b[1;32m    325\u001b[0m         \u001b[0;32mif\u001b[0m \u001b[0missparse\u001b[0m\u001b[0;34m(\u001b[0m\u001b[0my\u001b[0m\u001b[0;34m)\u001b[0m\u001b[0;34m:\u001b[0m\u001b[0;34m\u001b[0m\u001b[0;34m\u001b[0m\u001b[0m\n\u001b[1;32m    326\u001b[0m             \u001b[0;32mraise\u001b[0m \u001b[0mValueError\u001b[0m\u001b[0;34m(\u001b[0m\u001b[0;34m\"sparse multilabel-indicator for y is not supported.\"\u001b[0m\u001b[0;34m)\u001b[0m\u001b[0;34m\u001b[0m\u001b[0;34m\u001b[0m\u001b[0m\n\u001b[0;32m--> 327\u001b[0;31m         X, y = self._validate_data(\n\u001b[0m\u001b[1;32m    328\u001b[0m             \u001b[0mX\u001b[0m\u001b[0;34m,\u001b[0m \u001b[0my\u001b[0m\u001b[0;34m,\u001b[0m \u001b[0mmulti_output\u001b[0m\u001b[0;34m=\u001b[0m\u001b[0;32mTrue\u001b[0m\u001b[0;34m,\u001b[0m \u001b[0maccept_sparse\u001b[0m\u001b[0;34m=\u001b[0m\u001b[0;34m\"csc\"\u001b[0m\u001b[0;34m,\u001b[0m \u001b[0mdtype\u001b[0m\u001b[0;34m=\u001b[0m\u001b[0mDTYPE\u001b[0m\u001b[0;34m\u001b[0m\u001b[0;34m\u001b[0m\u001b[0m\n\u001b[1;32m    329\u001b[0m         )\n\n\u001b[0;32m~/opt/anaconda3/lib/python3.9/site-packages/sklearn/base.py\u001b[0m in \u001b[0;36m_validate_data\u001b[0;34m(self, X, y, reset, validate_separately, **check_params)\u001b[0m\n\u001b[1;32m    579\u001b[0m                 \u001b[0my\u001b[0m \u001b[0;34m=\u001b[0m \u001b[0mcheck_array\u001b[0m\u001b[0;34m(\u001b[0m\u001b[0my\u001b[0m\u001b[0;34m,\u001b[0m \u001b[0;34m**\u001b[0m\u001b[0mcheck_y_params\u001b[0m\u001b[0;34m)\u001b[0m\u001b[0;34m\u001b[0m\u001b[0;34m\u001b[0m\u001b[0m\n\u001b[1;32m    580\u001b[0m             \u001b[0;32melse\u001b[0m\u001b[0;34m:\u001b[0m\u001b[0;34m\u001b[0m\u001b[0;34m\u001b[0m\u001b[0m\n\u001b[0;32m--> 581\u001b[0;31m                 \u001b[0mX\u001b[0m\u001b[0;34m,\u001b[0m \u001b[0my\u001b[0m \u001b[0;34m=\u001b[0m \u001b[0mcheck_X_y\u001b[0m\u001b[0;34m(\u001b[0m\u001b[0mX\u001b[0m\u001b[0;34m,\u001b[0m \u001b[0my\u001b[0m\u001b[0;34m,\u001b[0m \u001b[0;34m**\u001b[0m\u001b[0mcheck_params\u001b[0m\u001b[0;34m)\u001b[0m\u001b[0;34m\u001b[0m\u001b[0;34m\u001b[0m\u001b[0m\n\u001b[0m\u001b[1;32m    582\u001b[0m             \u001b[0mout\u001b[0m \u001b[0;34m=\u001b[0m \u001b[0mX\u001b[0m\u001b[0;34m,\u001b[0m \u001b[0my\u001b[0m\u001b[0;34m\u001b[0m\u001b[0;34m\u001b[0m\u001b[0m\n\u001b[1;32m    583\u001b[0m \u001b[0;34m\u001b[0m\u001b[0m\n\n\u001b[0;32m~/opt/anaconda3/lib/python3.9/site-packages/sklearn/utils/validation.py\u001b[0m in \u001b[0;36mcheck_X_y\u001b[0;34m(X, y, accept_sparse, accept_large_sparse, dtype, order, copy, force_all_finite, ensure_2d, allow_nd, multi_output, ensure_min_samples, ensure_min_features, y_numeric, estimator)\u001b[0m\n\u001b[1;32m    962\u001b[0m         \u001b[0;32mraise\u001b[0m \u001b[0mValueError\u001b[0m\u001b[0;34m(\u001b[0m\u001b[0;34m\"y cannot be None\"\u001b[0m\u001b[0;34m)\u001b[0m\u001b[0;34m\u001b[0m\u001b[0;34m\u001b[0m\u001b[0m\n\u001b[1;32m    963\u001b[0m \u001b[0;34m\u001b[0m\u001b[0m\n\u001b[0;32m--> 964\u001b[0;31m     X = check_array(\n\u001b[0m\u001b[1;32m    965\u001b[0m         \u001b[0mX\u001b[0m\u001b[0;34m,\u001b[0m\u001b[0;34m\u001b[0m\u001b[0;34m\u001b[0m\u001b[0m\n\u001b[1;32m    966\u001b[0m         \u001b[0maccept_sparse\u001b[0m\u001b[0;34m=\u001b[0m\u001b[0maccept_sparse\u001b[0m\u001b[0;34m,\u001b[0m\u001b[0;34m\u001b[0m\u001b[0;34m\u001b[0m\u001b[0m\n\n\u001b[0;32m~/opt/anaconda3/lib/python3.9/site-packages/sklearn/utils/validation.py\u001b[0m in \u001b[0;36mcheck_array\u001b[0;34m(array, accept_sparse, accept_large_sparse, dtype, order, copy, force_all_finite, ensure_2d, allow_nd, ensure_min_samples, ensure_min_features, estimator)\u001b[0m\n\u001b[1;32m    744\u001b[0m                     \u001b[0marray\u001b[0m \u001b[0;34m=\u001b[0m \u001b[0marray\u001b[0m\u001b[0;34m.\u001b[0m\u001b[0mastype\u001b[0m\u001b[0;34m(\u001b[0m\u001b[0mdtype\u001b[0m\u001b[0;34m,\u001b[0m \u001b[0mcasting\u001b[0m\u001b[0;34m=\u001b[0m\u001b[0;34m\"unsafe\"\u001b[0m\u001b[0;34m,\u001b[0m \u001b[0mcopy\u001b[0m\u001b[0;34m=\u001b[0m\u001b[0;32mFalse\u001b[0m\u001b[0;34m)\u001b[0m\u001b[0;34m\u001b[0m\u001b[0;34m\u001b[0m\u001b[0m\n\u001b[1;32m    745\u001b[0m                 \u001b[0;32melse\u001b[0m\u001b[0;34m:\u001b[0m\u001b[0;34m\u001b[0m\u001b[0;34m\u001b[0m\u001b[0m\n\u001b[0;32m--> 746\u001b[0;31m                     \u001b[0marray\u001b[0m \u001b[0;34m=\u001b[0m \u001b[0mnp\u001b[0m\u001b[0;34m.\u001b[0m\u001b[0masarray\u001b[0m\u001b[0;34m(\u001b[0m\u001b[0marray\u001b[0m\u001b[0;34m,\u001b[0m \u001b[0morder\u001b[0m\u001b[0;34m=\u001b[0m\u001b[0morder\u001b[0m\u001b[0;34m,\u001b[0m \u001b[0mdtype\u001b[0m\u001b[0;34m=\u001b[0m\u001b[0mdtype\u001b[0m\u001b[0;34m)\u001b[0m\u001b[0;34m\u001b[0m\u001b[0;34m\u001b[0m\u001b[0m\n\u001b[0m\u001b[1;32m    747\u001b[0m             \u001b[0;32mexcept\u001b[0m \u001b[0mComplexWarning\u001b[0m \u001b[0;32mas\u001b[0m \u001b[0mcomplex_warning\u001b[0m\u001b[0;34m:\u001b[0m\u001b[0;34m\u001b[0m\u001b[0;34m\u001b[0m\u001b[0m\n\u001b[1;32m    748\u001b[0m                 raise ValueError(\n\n\u001b[0;32m~/opt/anaconda3/lib/python3.9/site-packages/pandas/core/generic.py\u001b[0m in \u001b[0;36m__array__\u001b[0;34m(self, dtype)\u001b[0m\n\u001b[1;32m   2062\u001b[0m \u001b[0;34m\u001b[0m\u001b[0m\n\u001b[1;32m   2063\u001b[0m     \u001b[0;32mdef\u001b[0m \u001b[0m__array__\u001b[0m\u001b[0;34m(\u001b[0m\u001b[0mself\u001b[0m\u001b[0;34m,\u001b[0m \u001b[0mdtype\u001b[0m\u001b[0;34m:\u001b[0m \u001b[0mnpt\u001b[0m\u001b[0;34m.\u001b[0m\u001b[0mDTypeLike\u001b[0m \u001b[0;34m|\u001b[0m \u001b[0;32mNone\u001b[0m \u001b[0;34m=\u001b[0m \u001b[0;32mNone\u001b[0m\u001b[0;34m)\u001b[0m \u001b[0;34m->\u001b[0m \u001b[0mnp\u001b[0m\u001b[0;34m.\u001b[0m\u001b[0mndarray\u001b[0m\u001b[0;34m:\u001b[0m\u001b[0;34m\u001b[0m\u001b[0;34m\u001b[0m\u001b[0m\n\u001b[0;32m-> 2064\u001b[0;31m         \u001b[0;32mreturn\u001b[0m \u001b[0mnp\u001b[0m\u001b[0;34m.\u001b[0m\u001b[0masarray\u001b[0m\u001b[0;34m(\u001b[0m\u001b[0mself\u001b[0m\u001b[0;34m.\u001b[0m\u001b[0m_values\u001b[0m\u001b[0;34m,\u001b[0m \u001b[0mdtype\u001b[0m\u001b[0;34m=\u001b[0m\u001b[0mdtype\u001b[0m\u001b[0;34m)\u001b[0m\u001b[0;34m\u001b[0m\u001b[0;34m\u001b[0m\u001b[0m\n\u001b[0m\u001b[1;32m   2065\u001b[0m \u001b[0;34m\u001b[0m\u001b[0m\n\u001b[1;32m   2066\u001b[0m     def __array_wrap__(\n\n\u001b[0;31mValueError\u001b[0m: could not convert string to float: '1.99.'"
}
