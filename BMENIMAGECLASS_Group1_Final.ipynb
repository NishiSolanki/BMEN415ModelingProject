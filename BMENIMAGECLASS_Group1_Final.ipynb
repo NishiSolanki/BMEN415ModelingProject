{
 "cells": [
  {
   "cell_type": "code",
   "execution_count": 1,
   "id": "8e2d34d8-dd61-4cf1-9faf-38df5082256f",
   "metadata": {},
   "outputs": [],
   "source": [
    "import numpy as np\n",
    "import seaborn as sns\n",
    "import matplotlib.pyplot as plt\n",
    "import os\n",
    "import glob\n",
    "import random\n",
    "import pandas as pd\n",
    "\n",
    "from PIL import Image"
   ]
  },
  {
   "cell_type": "code",
   "execution_count": 7,
   "id": "198697ba-1084-49b6-b5cd-88ffbb1abb71",
   "metadata": {},
   "outputs": [
    {
     "name": "stdout",
     "output_type": "stream",
     "text": [
      "n =  10192\n",
      "c  =  3616\n"
     ]
    },
    {
     "name": "stderr",
     "output_type": "stream",
     "text": [
      "/var/folders/8k/7w5pq5x94r9chdh11ry6d8p40000gn/T/ipykernel_2942/1132574344.py:32: FutureWarning: The frame.append method is deprecated and will be removed from pandas in a future version. Use pandas.concat instead.\n",
      "  train_data = df_train_n.append(df_train_y,ignore_index=True)\n"
     ]
    }
   ],
   "source": [
    "# Import images\n",
    "\n",
    "def import_images(path):\n",
    "    s = []\n",
    "    for filename in glob.glob(path):\n",
    "        img = Image.open(filename,'r')\n",
    "        img = img.resize((256,256))\n",
    "        img = np.array(img)\n",
    "        IMG = img.ravel()\n",
    "        s.append(IMG)\n",
    "    return s\n",
    "\n",
    "#Normal images\n",
    "path1 = 'Term_Project/BMEN415_DataSets_Group1/COVID-19_Radiography_Dataset/Normal/masks/*.png'\n",
    "n = import_images(path1)\n",
    "print(\"n = \", len(n))\n",
    "train_n = []\n",
    "for i in n:\n",
    "    train_n.append(i)\n",
    "\n",
    "#Covid images\n",
    "path2 = 'Term_Project/BMEN415_DataSets_Group1/COVID-19_Radiography_Dataset/COVID/masks/*.png'\n",
    "c = import_images(path2)\n",
    "print(\"c  = \", len(c))\n",
    "train_y = []\n",
    "for i in c:\n",
    "    train_y.append(i)\n",
    "    \n",
    "df_train_n = pd.DataFrame({'image':train_n, 'label': 'normal'}) \n",
    "df_train_y = pd.DataFrame({'image':train_y, 'label': 'covid'})\n",
    "\n",
    "train_data = df_train_n.append(df_train_y,ignore_index=True)"
   ]
  },
  {
   "cell_type": "code",
   "execution_count": 8,
   "id": "f2fa4ed1-c1b4-49be-949f-ab7f8b26d989",
   "metadata": {},
   "outputs": [
    {
     "name": "stdout",
     "output_type": "stream",
     "text": [
      "0\n"
     ]
    }
   ],
   "source": [
    "#Find outliers\n",
    "a = 1\n",
    "outlier = []\n",
    "for i in range(len(train_data)):\n",
    "    if(len(train_data.image[i])!=(3*256**2)):\n",
    "        a = a + 1\n",
    "        outlier.append(i)\n",
    "\n",
    "print(len(outlier)) #no outliers\n",
    "\n",
    "train_data=train_data.drop(outlier,axis=0)"
   ]
  },
  {
   "cell_type": "code",
   "execution_count": 9,
   "id": "f63dca34-96c0-4ad3-b063-1f68693f6fde",
   "metadata": {},
   "outputs": [],
   "source": [
    "x_train = []\n",
    "\n",
    "for tdim in train_data.image:\n",
    "    x_train.append(tdim)\n",
    "    \n",
    "y_train = np.array(train_data.label)\n",
    "y_traind = []\n",
    "\n",
    "for i in range(len(y_train)):\n",
    "    if(y_train[i]==\"normal\"):\n",
    "        y_traind.append(0)\n",
    "    else:\n",
    "        y_traind.append(1)\n",
    "\n",
    "x_traind = np.array(x_train)\n",
    "\n",
    "number_of_classes = 2\n",
    "\n",
    "y_train = np.zeros([len(y_traind), number_of_classes])\n",
    "for i in range(len(y_traind)):\n",
    "        y_train[i][y_traind[i]] = 1"
   ]
  },
  {
   "cell_type": "code",
   "execution_count": 10,
   "id": "a06d0610-2124-43b8-baf2-f0609633183d",
   "metadata": {},
   "outputs": [],
   "source": [
    "#Test, train, and split the data\n",
    "from sklearn.model_selection import train_test_split\n",
    "\n",
    "#test 30% of our data, train 70%\n",
    "x_train, x_test, y_train, y_test = train_test_split(x_traind, y_train, test_size=0.3)\n",
    "\n",
    "# convert to Matrix \n",
    "x_train = np.matrix(x_train)\n",
    "x_test = np.matrix(x_test)\n",
    "y_train = np.matrix(y_train)\n",
    "y_test = np.matrix(y_test)"
   ]
  },
  {
   "cell_type": "code",
   "execution_count": 11,
   "id": "878b6d85-4f96-4a2a-9bce-8dd6e13959ec",
   "metadata": {},
   "outputs": [],
   "source": [
    "#build ELM model\n",
    "input_ = x_train.shape[1]\n",
    "\n",
    "Win = np.random.normal(size=[input_, 750])\n",
    "Win = np.matrix(Win)"
   ]
  },
  {
   "cell_type": "code",
   "execution_count": 12,
   "id": "ef1dc4f6-8932-49fe-9267-91d0bfe68f05",
   "metadata": {},
   "outputs": [
    {
     "name": "stdout",
     "output_type": "stream",
     "text": [
      "shape of x: (9665, 196608)\n",
      "weights shape: (196608, 750)\n"
     ]
    }
   ],
   "source": [
    "\n",
    "def hiddeninput(x):\n",
    "    print(\"shape of x:\",x.shape)\n",
    "    print(\"weights shape:\",Win.shape)\n",
    "    a = np.dot(x, Win)\n",
    "    a = np.maximum(a, 1, a) #rel = 1\n",
    "    return a\n",
    "\n",
    "X = hiddeninput(x_train)\n",
    "Xt = np.transpose(X)"
   ]
  },
  {
   "cell_type": "code",
   "execution_count": 13,
   "id": "fc9df4d0-293f-4cd2-8177-eafacaf02a67",
   "metadata": {},
   "outputs": [],
   "source": [
    "www1 = np.dot(Xt, X)\n",
    "b = np.identity(len(np.array(www1)))\n",
    "b = np.dot(b,3)\n",
    "\n",
    "www1 += b\n",
    "ww1 = np.linalg.inv(www1)\n",
    "ww2 = np.dot(Xt, y_train)\n",
    "\n",
    "Wout = np.dot(ww1, ww2)\n"
   ]
  },
  {
   "cell_type": "code",
   "execution_count": 16,
   "id": "6b7d00bc-3dc6-48b0-bd86-f964ce5946d9",
   "metadata": {},
   "outputs": [
    {
     "name": "stdout",
     "output_type": "stream",
     "text": [
      "shape of x: (4143, 196608)\n",
      "weights shape: (196608, 750)\n",
      "the accuracy is: 0.7924209510016896\n"
     ]
    }
   ],
   "source": [
    "# Prediction\n",
    "\n",
    "def prediction(x):\n",
    "    x = hiddeninput(x)\n",
    "    y = np.dot(x, Wout)\n",
    "    return y \n",
    "\n",
    "y = prediction(x_test)\n",
    "corr = 0\n",
    "\n",
    "\n",
    "for i in range(y.shape[0]):\n",
    "    test = np.argmax(y_test[i])\n",
    "    pred = np.argmax(y[i])\n",
    "\n",
    "    corr = corr + (1 if pred == test else 0)\n",
    "    \n",
    "accuracy = corr/y.shape[0]\n",
    "print('the accuracy is:',accuracy)\n",
    "\n"
   ]
  },
  {
   "cell_type": "code",
   "execution_count": 17,
   "id": "4aecc9c9-b373-4410-b62e-9236f487d087",
   "metadata": {},
   "outputs": [
    {
     "data": {
      "text/plain": [
       "<AxesSubplot:>"
      ]
     },
     "execution_count": 17,
     "metadata": {},
     "output_type": "execute_result"
    },
    {
     "data": {
      "image/png": "[encoded data removed]",
      "text/plain": [
       "<Figure size 640x480 with 2 Axes>"
      ]
     },
     "metadata": {},
     "output_type": "display_data"
    }
   ],
   "source": [
    "#confusion matrix\n",
    "from sklearn.metrics import confusion_matrix\n",
    "import seaborn as sns\n",
    "\n",
    "y_true = y_test.argmax(axis=1) \n",
    "y_pred_array = np.asarray(y)\n",
    "y_true_array = np.asarray(y_true)\n",
    "\n",
    "\n",
    "cm = confusion_matrix(y_true_array, y_pred_array.argmax(axis=1))\n",
    "sns.heatmap(cm, annot=True)\n"
   ]
  },
  {
   "cell_type": "code",
   "execution_count": null,
   "id": "5c2a6d37",
   "metadata": {},
   "outputs": [],
   "source": []
  },
  {
   "cell_type": "code",
   "execution_count": null,
   "id": "ef057fba",
   "metadata": {},
   "outputs": [],
   "source": []
  }
 ],
 "metadata": {
  "kernelspec": {
   "display_name": "Python 3 (ipykernel)",
   "language": "python",
   "name": "python3"
  },
  "language_info": {
   "codemirror_mode": {
    "name": "ipython",
    "version": 3
   },
   "file_extension": ".py",
   "mimetype": "text/x-python",
   "name": "python",
   "nbconvert_exporter": "python",
   "pygments_lexer": "ipython3",
   "version": "3.9.13"
  }
 },
 "nbformat": 4,
 "nbformat_minor": 5
}
