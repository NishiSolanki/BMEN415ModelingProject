{
 "cells": [
  {
   "cell_type": "code",
   "execution_count": 1,
   "id": "f0cb6175",
   "metadata": {},
   "outputs": [],
   "source": [
    "#NishiSolanki.\n",
    "#Classification: kNN."
   ]
  },
  {
   "cell_type": "code",
   "execution_count": 2,
   "id": "419e3751",
   "metadata": {},
   "outputs": [],
   "source": [
    "import pandas as pd \n",
    "import numpy as np\n",
    "import matplotlib.pyplot as plt\n",
    "import seaborn as sns\n",
    "import os"
   ]
  },
  {
   "cell_type": "code",
   "execution_count": 3,
   "id": "01bec08e",
   "metadata": {},
   "outputs": [],
   "source": [
    "#Importing dataset from desktop's csv file.\n",
    "data = pd.read_csv(\"Enterococcus_faecalis_Infection_Data.csv\")\n",
    "data = data.iloc[1:]\n",
    "\n",
    "#Remove any NaN values from dataset before taking train_test_split.\n",
    "data.dropna(inplace=True)"
   ]
  },
  {
   "cell_type": "code",
   "execution_count": 4,
   "id": "571c2393",
   "metadata": {},
   "outputs": [],
   "source": [
    "#Data is not relevant to final models, concluded after considering accuracy scores with/without particular columns.\n",
    "data = data.drop('SevenDay_Death', axis=1)\n",
    "data = data.drop('ThirtyDay_Death', axis=1)\n",
    "data = data.drop('SixWeek_Death', axis=1)\n",
    "data = data.drop('ThreeMo_Death', axis=1)\n",
    "data = data.drop('SixMo_Death', axis=1)\n",
    "data = data.drop('NineMo_Death', axis=1)"
   ]
  },
  {
   "cell_type": "code",
   "execution_count": 5,
   "id": "477512f4",
   "metadata": {},
   "outputs": [],
   "source": [
    "data[\"OneYear_Death\"] = data[\"OneYear_Death\"].astype(int)"
   ]
  },
  {
   "cell_type": "code",
   "execution_count": 6,
   "id": "ec7439a3",
   "metadata": {},
   "outputs": [],
   "source": [
    "#Replacing the range of data in AGE_GRP as averages. Helps with data processing in ML models.\n",
    "data.replace(to_replace =\"00-10\", value = \"5\", inplace = True)\n",
    "data.replace(to_replace =\"11-20\", value = \"15.5\", inplace = True)\n",
    "data.replace(to_replace =\"21-30\", value = \"25.5\", inplace = True)\n",
    "data.replace(to_replace =\"31-40\", value = \"35.5\", inplace = True)\n",
    "data.replace(to_replace =\"41-50\", value = \"45.5\", inplace = True)\n",
    "data.replace(to_replace =\"51-60\", value = \"55.5\", inplace = True)\n",
    "data.replace(to_replace =\"61-70\", value = \"65.5\", inplace = True)\n",
    "data.replace(to_replace =\"71-80\", value = \"75.5\", inplace = True)\n",
    "data.replace(to_replace =\"81-90\", value = \"85.5\", inplace = True)\n",
    "data.replace(to_replace =\"80+\", value = \"80\", inplace = True)\n",
    "\n",
    "del data['Unnamed: 0']"
   ]
  },
  {
   "cell_type": "code",
   "execution_count": 7,
   "id": "d6111bc8",
   "metadata": {},
   "outputs": [],
   "source": [
    "#Assigning features to X and target to y, setting target as \"OneYear_Death\".\n",
    "\n",
    "X=data.loc[:,data.columns!=\"OneYear_Death\"]\n",
    "y = data['OneYear_Death']"
   ]
  },
  {
   "cell_type": "code",
   "execution_count": 8,
   "id": "87c03906",
   "metadata": {},
   "outputs": [],
   "source": [
    "#Splitting testing and training data.\n",
    "from sklearn.model_selection import train_test_split \n",
    "x_train, x_test, y_train, y_test = train_test_split(X, y, test_size=0.3, random_state=1)"
   ]
  },
  {
   "cell_type": "code",
   "execution_count": 9,
   "id": "62574e45",
   "metadata": {},
   "outputs": [],
   "source": [
    "#Classification kNN: Using coding example from class, and scikit_learn."
   ]
  },
  {
   "cell_type": "code",
   "execution_count": 10,
   "id": "c4e42c88",
   "metadata": {},
   "outputs": [],
   "source": [
    "from sklearn.preprocessing import StandardScaler\n",
    "from sklearn.metrics import accuracy_score, f1_score\n",
    "\n",
    "#Standardizing data to mean, and common variance for kNN.\n",
    "scaler = StandardScaler()\n",
    "x_train = scaler.fit_transform(x_train)\n",
    "x_test = scaler.transform(x_test)"
   ]
  },
  {
   "cell_type": "code",
   "execution_count": 11,
   "id": "f86dc289",
   "metadata": {},
   "outputs": [
    {
     "data": {
      "text/html": [
       "<style>#sk-container-id-1 {color: black;background-color: white;}#sk-container-id-1 pre{padding: 0;}#sk-container-id-1 div.sk-toggleable {background-color: white;}#sk-container-id-1 label.sk-toggleable__label {cursor: pointer;display: block;width: 100%;margin-bottom: 0;padding: 0.3em;box-sizing: border-box;text-align: center;}#sk-container-id-1 label.sk-toggleable__label-arrow:before {content: \"▸\";float: left;margin-right: 0.25em;color: #696969;}#sk-container-id-1 label.sk-toggleable__label-arrow:hover:before {color: black;}#sk-container-id-1 div.sk-estimator:hover label.sk-toggleable__label-arrow:before {color: black;}#sk-container-id-1 div.sk-toggleable__content {max-height: 0;max-width: 0;overflow: hidden;text-align: left;background-color: #f0f8ff;}#sk-container-id-1 div.sk-toggleable__content pre {margin: 0.2em;color: black;border-radius: 0.25em;background-color: #f0f8ff;}#sk-container-id-1 input.sk-toggleable__control:checked~div.sk-toggleable__content {max-height: 200px;max-width: 100%;overflow: auto;}#sk-container-id-1 input.sk-toggleable__control:checked~label.sk-toggleable__label-arrow:before {content: \"▾\";}#sk-container-id-1 div.sk-estimator input.sk-toggleable__control:checked~label.sk-toggleable__label {background-color: #d4ebff;}#sk-container-id-1 div.sk-label input.sk-toggleable__control:checked~label.sk-toggleable__label {background-color: #d4ebff;}#sk-container-id-1 input.sk-hidden--visually {border: 0;clip: rect(1px 1px 1px 1px);clip: rect(1px, 1px, 1px, 1px);height: 1px;margin: -1px;overflow: hidden;padding: 0;position: absolute;width: 1px;}#sk-container-id-1 div.sk-estimator {font-family: monospace;background-color: #f0f8ff;border: 1px dotted black;border-radius: 0.25em;box-sizing: border-box;margin-bottom: 0.5em;}#sk-container-id-1 div.sk-estimator:hover {background-color: #d4ebff;}#sk-container-id-1 div.sk-parallel-item::after {content: \"\";width: 100%;border-bottom: 1px solid gray;flex-grow: 1;}#sk-container-id-1 div.sk-label:hover label.sk-toggleable__label {background-color: #d4ebff;}#sk-container-id-1 div.sk-serial::before {content: \"\";position: absolute;border-left: 1px solid gray;box-sizing: border-box;top: 0;bottom: 0;left: 50%;z-index: 0;}#sk-container-id-1 div.sk-serial {display: flex;flex-direction: column;align-items: center;background-color: white;padding-right: 0.2em;padding-left: 0.2em;position: relative;}#sk-container-id-1 div.sk-item {position: relative;z-index: 1;}#sk-container-id-1 div.sk-parallel {display: flex;align-items: stretch;justify-content: center;background-color: white;position: relative;}#sk-container-id-1 div.sk-item::before, #sk-container-id-1 div.sk-parallel-item::before {content: \"\";position: absolute;border-left: 1px solid gray;box-sizing: border-box;top: 0;bottom: 0;left: 50%;z-index: -1;}#sk-container-id-1 div.sk-parallel-item {display: flex;flex-direction: column;z-index: 1;position: relative;background-color: white;}#sk-container-id-1 div.sk-parallel-item:first-child::after {align-self: flex-end;width: 50%;}#sk-container-id-1 div.sk-parallel-item:last-child::after {align-self: flex-start;width: 50%;}#sk-container-id-1 div.sk-parallel-item:only-child::after {width: 0;}#sk-container-id-1 div.sk-dashed-wrapped {border: 1px dashed gray;margin: 0 0.4em 0.5em 0.4em;box-sizing: border-box;padding-bottom: 0.4em;background-color: white;}#sk-container-id-1 div.sk-label label {font-family: monospace;font-weight: bold;display: inline-block;line-height: 1.2em;}#sk-container-id-1 div.sk-label-container {text-align: center;}#sk-container-id-1 div.sk-container {/* jupyter's `normalize.less` sets `[hidden] { display: none; }` but bootstrap.min.css set `[hidden] { display: none !important; }` so we also need the `!important` here to be able to override the default hidden behavior on the sphinx rendered scikit-learn.org. See: https://github.com/scikit-learn/scikit-learn/issues/21755 */display: inline-block !important;position: relative;}#sk-container-id-1 div.sk-text-repr-fallback {display: none;}</style><div id=\"sk-container-id-1\" class=\"sk-top-container\"><div class=\"sk-text-repr-fallback\"><pre>KNeighborsClassifier(n_neighbors=40)</pre><b>In a Jupyter environment, please rerun this cell to show the HTML representation or trust the notebook. <br />On GitHub, the HTML representation is unable to render, please try loading this page with nbviewer.org.</b></div><div class=\"sk-container\" hidden><div class=\"sk-item\"><div class=\"sk-estimator sk-toggleable\"><input class=\"sk-toggleable__control sk-hidden--visually\" id=\"sk-estimator-id-1\" type=\"checkbox\" checked><label for=\"sk-estimator-id-1\" class=\"sk-toggleable__label sk-toggleable__label-arrow\">KNeighborsClassifier</label><div class=\"sk-toggleable__content\"><pre>KNeighborsClassifier(n_neighbors=40)</pre></div></div></div></div></div>"
      ],
      "text/plain": [
       "KNeighborsClassifier(n_neighbors=40)"
      ]
     },
     "execution_count": 11,
     "metadata": {},
     "output_type": "execute_result"
    }
   ],
   "source": [
    "from sklearn.neighbors import KNeighborsClassifier\n",
    "\n",
    "#Implementing model for kNN.\n",
    "kNN = KNeighborsClassifier(n_neighbors=40)\n",
    "kNN.fit(x_train, y_train)"
   ]
  },
  {
   "cell_type": "code",
   "execution_count": 12,
   "id": "bab47b9e",
   "metadata": {},
   "outputs": [],
   "source": [
    "#Training model with train dataset.\n",
    "y_pred_train = kNN.predict(x_train)"
   ]
  },
  {
   "cell_type": "code",
   "execution_count": 13,
   "id": "48b4f507",
   "metadata": {},
   "outputs": [
    {
     "name": "stdout",
     "output_type": "stream",
     "text": [
      "Accuracy_Train: 0.6504065040650406\n",
      "f1_score_train: 0.015267175572519085\n",
      "Accuracy_Test: 0.7235772357723578\n",
      "f1_score_test: 0.01923076923076923\n"
     ]
    }
   ],
   "source": [
    "y_pred_test = kNN.predict(x_test)\n",
    "#Accuracy score and f1 score for training and testing.\n",
    "print(\"Accuracy_Train:\", accuracy_score(y_train[:369], y_pred_train[:369]))\n",
    "print (\"f1_score_train:\", f1_score(y_train[:369], y_pred_train[:369]))\n",
    "\n",
    "print(\"Accuracy_Test:\", accuracy_score(y_test, y_pred_test)) \n",
    "print (\"f1_score_test:\", f1_score(y_test, y_pred_test))"
   ]
  },
  {
   "cell_type": "code",
   "execution_count": 14,
   "id": "0d8982b6",
   "metadata": {},
   "outputs": [
    {
     "data": {
      "text/plain": [
       "<AxesSubplot:>"
      ]
     },
     "execution_count": 14,
     "metadata": {},
     "output_type": "execute_result"
    },
    {
     "data": {
      "image/png": "[encoded data removed]",
      "text/plain": [
       "<Figure size 640x480 with 2 Axes>"
      ]
     },
     "metadata": {},
     "output_type": "display_data"
    }
   ],
   "source": [
    "from sklearn.metrics import confusion_matrix\n",
    "\n",
    "cm = confusion_matrix(y_test, y_pred_test)\n",
    "\n",
    "sns.heatmap(cm, annot=True)"
   ]
  },
  {
   "cell_type": "code",
   "execution_count": 15,
   "id": "ffc88b0f",
   "metadata": {},
   "outputs": [
    {
     "data": {
      "image/png": "[encoded data removed]",
      "text/plain": [
       "<Figure size 640x480 with 1 Axes>"
      ]
     },
     "metadata": {},
     "output_type": "display_data"
    },
    {
     "name": "stdout",
     "output_type": "stream",
     "text": [
      "AUC_score: 0.5048543689320388\n"
     ]
    }
   ],
   "source": [
    "#ROC curve.\n",
    "from sklearn.metrics import roc_auc_score\n",
    "from sklearn.metrics import RocCurveDisplay\n",
    "\n",
    "RocCurveDisplay.from_predictions(y_test, y_pred_test,name=\"ROC\", color=\"darkorange\")\n",
    "\n",
    "plt.plot([0, 1], [0, 1], \"k--\", label= \"chance level (AUC = 0.5)\")\n",
    "plt.axis(\"square\")\n",
    "plt.xlabel(\"False Positive Rate\")\n",
    "plt.ylabel(\"True Positive Rate\")\n",
    "plt.title(\"ROC Curve\")\n",
    "plt.legend()\n",
    "plt.show()\n",
    "\n",
    "auc = roc_auc_score(y_test, y_pred_test)\n",
    "print(\"AUC_score:\",auc)"
   ]
  }
 ],
 "metadata": {
  "kernelspec": {
   "display_name": "Python 3 (ipykernel)",
   "language": "python",
   "name": "python3"
  },
  "language_info": {
   "codemirror_mode": {
    "name": "ipython",
    "version": 3
   },
   "file_extension": ".py",
   "mimetype": "text/x-python",
   "name": "python",
   "nbconvert_exporter": "python",
   "pygments_lexer": "ipython3",
   "version": "3.9.13"
  }
 },
 "nbformat": 4,
 "nbformat_minor": 5
}
